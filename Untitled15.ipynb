{
  "nbformat": 4,
  "nbformat_minor": 0,
  "metadata": {
    "colab": {
      "provenance": [],
      "authorship_tag": "ABX9TyParZpmzoGvcvFmMIFHK+cz",
      "include_colab_link": true
    },
    "kernelspec": {
      "name": "python3",
      "display_name": "Python 3"
    },
    "language_info": {
      "name": "python"
    }
  },
  "cells": [
    {
      "cell_type": "markdown",
      "metadata": {
        "id": "view-in-github",
        "colab_type": "text"
      },
      "source": [
        "<a href=\"https://colab.research.google.com/github/MarckennedyC/BSIS2-DV-LAB4-MARC-KEMMEDY-CABAJAR/blob/main/Untitled15.ipynb\" target=\"_parent\"><img src=\"https://colab.research.google.com/assets/colab-badge.svg\" alt=\"Open In Colab\"/></a>"
      ]
    },
    {
      "cell_type": "code",
      "execution_count": null,
      "metadata": {
        "id": "mWkfPyqG2Ctv"
      },
      "outputs": [],
      "source": [
        "# Logical Operators\n",
        "# and, or, not\n",
        "# used to check if two or more conditional statements is true or false\n",
        "#evaluates if temperature is greater than equal to 0 and less than or equal to 30 \n",
        "#try to enter values from equal to 0 or greater than 0\n",
        "#try to enter values less than or equal to 30\n",
        "#first condition >= 0 is false but the second condition <=30 is true\n",
        "#it will print the desired output having a good temperature\n",
        "\n",
        "temp = int(input(\"What is the temperature outside? : \"))\n",
        "\n",
        "if temp >= 0 and temp <= 30: \n",
        "  print(\"the temperature is good today\") \n",
        "  print(\"can go outside!\")"
      ]
    }
  ]
}